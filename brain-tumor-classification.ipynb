{
 "cells": [
  {
   "cell_type": "code",
   "execution_count": 1,
   "id": "a8da2400",
   "metadata": {
    "_cell_guid": "b1076dfc-b9ad-4769-8c92-a6c4dae69d19",
    "_uuid": "8f2839f25d086af736a60e9eeb907d3b93b6e0e5",
    "execution": {
     "iopub.execute_input": "2025-02-16T17:21:45.139220Z",
     "iopub.status.busy": "2025-02-16T17:21:45.138901Z",
     "iopub.status.idle": "2025-02-16T17:21:51.220200Z",
     "shell.execute_reply": "2025-02-16T17:21:51.219168Z"
    },
    "papermill": {
     "duration": 6.088038,
     "end_time": "2025-02-16T17:21:51.221750",
     "exception": false,
     "start_time": "2025-02-16T17:21:45.133712",
     "status": "completed"
    },
    "tags": []
   },
   "outputs": [
    {
     "name": "stdout",
     "output_type": "stream",
     "text": [
      "Total 3264 files found.\n"
     ]
    }
   ],
   "source": [
    "# This Python 3 environment comes with many helpful analytics libraries installed\n",
    "# It is defined by the kaggle/python Docker image: https://github.com/kaggle/docker-python\n",
    "# For example, here's several helpful packages to load\n",
    "\n",
    "import numpy as np # linear algebra\n",
    "import pandas as pd # data processing, CSV file I/O (e.g. pd.read_csv)\n",
    "\n",
    "# Input data files are available in the read-only \"../input/\" directory\n",
    "# For example, running this (by clicking run or pressing Shift+Enter) will list all files under the input directory\n",
    "\n",
    "import os\n",
    "file_count = sum(len(files) for _, _, files in os.walk('/kaggle/input'))\n",
    "print(f\"Total {file_count} files found.\")\n",
    "\n",
    "# You can write up to 20GB to the current directory (/kaggle/working/) that gets preserved as output when you create a version using \"Save & Run All\" \n",
    "# You can also write temporary files to /kaggle/temp/, but they won't be saved outside of the current session"
   ]
  },
  {
   "cell_type": "markdown",
   "id": "327630e5",
   "metadata": {
    "papermill": {
     "duration": 0.003413,
     "end_time": "2025-02-16T17:21:51.229244",
     "exception": false,
     "start_time": "2025-02-16T17:21:51.225831",
     "status": "completed"
    },
    "tags": []
   },
   "source": [
    "# Brain Tumor Classification with CNN\n",
    "\n",
    "This project focuses on classifying brain tumor images using Convolutional Neural Networks (CNN). The dataset consists of MRI images of four types of brain tumors: **no tumor**, **pituitary tumor**, **meningioma tumor**, and **glioma tumor**. We use a CNN model to classify the images into these categories.\n",
    "\n",
    "## Project Setup\n",
    "\n",
    "### Dataset\n",
    "\n",
    "The dataset used in this project consists of MRI images of brain tumors. The images are stored in two directories: **Training** and **Testing**.\n",
    "\n",
    "- **Training Set:** Contains labeled images used to train the model.\n",
    "- **Testing Set:** Contains images used to evaluate the model's performance.\n",
    "\n",
    "The labels are:\n",
    "- **no_tumor**\n",
    "- **pituitary_tumor**\n",
    "- **meningioma_tumor**\n",
    "- **glioma_tumor**"
   ]
  },
  {
   "cell_type": "markdown",
   "id": "30dad052",
   "metadata": {
    "execution": {
     "iopub.execute_input": "2025-02-16T16:51:54.710458Z",
     "iopub.status.busy": "2025-02-16T16:51:54.710085Z",
     "iopub.status.idle": "2025-02-16T16:51:54.716741Z",
     "shell.execute_reply": "2025-02-16T16:51:54.715406Z",
     "shell.execute_reply.started": "2025-02-16T16:51:54.710426Z"
    },
    "papermill": {
     "duration": 0.00325,
     "end_time": "2025-02-16T17:21:51.235970",
     "exception": false,
     "start_time": "2025-02-16T17:21:51.232720",
     "status": "completed"
    },
    "tags": []
   },
   "source": [
    "### Import Libraries\n",
    "This project uses the following libraries:\n",
    "- **TensorFlow/Keras**: For model building and training.\n",
    "- **OpenCV**: For image processing.\n",
    "- **Matplotlib/Seaborn**: For visualization.\n",
    "- **Scikit-learn**: For metrics and splitting data."
   ]
  },
  {
   "cell_type": "code",
   "execution_count": 2,
   "id": "5fb81fd6",
   "metadata": {
    "execution": {
     "iopub.execute_input": "2025-02-16T17:21:51.243849Z",
     "iopub.status.busy": "2025-02-16T17:21:51.243501Z",
     "iopub.status.idle": "2025-02-16T17:22:04.397509Z",
     "shell.execute_reply": "2025-02-16T17:22:04.396845Z"
    },
    "papermill": {
     "duration": 13.159592,
     "end_time": "2025-02-16T17:22:04.399009",
     "exception": false,
     "start_time": "2025-02-16T17:21:51.239417",
     "status": "completed"
    },
    "tags": []
   },
   "outputs": [],
   "source": [
    "# Required Libraries\n",
    "import os\n",
    "import numpy as np\n",
    "import cv2\n",
    "import matplotlib.pyplot as plt\n",
    "import tensorflow as tf\n",
    "from tensorflow.keras import Input\n",
    "from tensorflow.keras.utils import to_categorical\n",
    "from tensorflow.keras.models import Sequential\n",
    "from tensorflow.keras.layers import Conv2D, MaxPooling2D, Flatten, Dense, Dropout\n",
    "from tensorflow.keras.optimizers import RMSprop, Adam\n",
    "from tensorflow.keras.preprocessing.image import ImageDataGenerator\n",
    "from sklearn.model_selection import train_test_split\n",
    "from sklearn.metrics import classification_report, confusion_matrix\n",
    "import seaborn as sns"
   ]
  },
  {
   "cell_type": "markdown",
   "id": "144a3455",
   "metadata": {
    "papermill": {
     "duration": 0.003355,
     "end_time": "2025-02-16T17:22:04.406292",
     "exception": false,
     "start_time": "2025-02-16T17:22:04.402937",
     "status": "completed"
    },
    "tags": []
   },
   "source": [
    "## Data Loading and Preprocessing\n",
    "\n",
    "The dataset consists of images of MRI scans stored in different folders based on the tumor type. Each image is resized to a consistent size for model training. Here we load and preprocess the data, including:\n",
    "- Reading images\n",
    "- Resizing them to 224x224\n",
    "- Normalizing pixel values\n",
    "- One-hot encoding the labels\n",
    "\n",
    "Additionally, we split the data into training, validation, and test sets for model evaluation."
   ]
  },
  {
   "cell_type": "code",
   "execution_count": 3,
   "id": "18cbdb4f",
   "metadata": {
    "execution": {
     "iopub.execute_input": "2025-02-16T17:22:04.413947Z",
     "iopub.status.busy": "2025-02-16T17:22:04.413528Z",
     "iopub.status.idle": "2025-02-16T17:22:04.417013Z",
     "shell.execute_reply": "2025-02-16T17:22:04.416406Z"
    },
    "papermill": {
     "duration": 0.008627,
     "end_time": "2025-02-16T17:22:04.418277",
     "exception": false,
     "start_time": "2025-02-16T17:22:04.409650",
     "status": "completed"
    },
    "tags": []
   },
   "outputs": [],
   "source": [
    "# Loading and Preprocessing Data\n",
    "dataset_path = \"brain-tumor-classification-mri\"\n",
    "data = {\n",
    "    \"train\": \"/kaggle/input/brain-tumor-classification-mri/Training\",\n",
    "    \"test\": \"/kaggle/input/brain-tumor-classification-mri/Testing\"\n",
    "}\n",
    "labels = ['no_tumor', 'pituitary_tumor', 'meningioma_tumor', 'glioma_tumor']"
   ]
  },
  {
   "cell_type": "code",
   "execution_count": 4,
   "id": "4fe0bcf2",
   "metadata": {
    "execution": {
     "iopub.execute_input": "2025-02-16T17:22:04.425985Z",
     "iopub.status.busy": "2025-02-16T17:22:04.425783Z",
     "iopub.status.idle": "2025-02-16T17:22:04.430982Z",
     "shell.execute_reply": "2025-02-16T17:22:04.430395Z"
    },
    "papermill": {
     "duration": 0.010292,
     "end_time": "2025-02-16T17:22:04.432093",
     "exception": false,
     "start_time": "2025-02-16T17:22:04.421801",
     "status": "completed"
    },
    "tags": []
   },
   "outputs": [],
   "source": [
    "# Function to load data and resize images\n",
    "def load_data(data_path, labels, img_size=224):\n",
    "    X, y = [], []\n",
    "    if not os.path.exists(data_path):\n",
    "        raise ValueError(f\"Error: Path not found -> {data_path}\")\n",
    "    \n",
    "    for label in labels:\n",
    "        label_path = os.path.join(data_path, label)\n",
    "        if not os.path.exists(label_path):\n",
    "            print(f\"Warning: Folder not found for label '{label}', skipping.\")\n",
    "            continue\n",
    "\n",
    "        for img_name in os.listdir(label_path):\n",
    "            img_path = os.path.join(label_path, img_name)\n",
    "            try:\n",
    "                img = cv2.imread(img_path)\n",
    "                if img is None:\n",
    "                    print(f\"Warning: '{img_name}' could not be read, skipping.\")\n",
    "                    continue\n",
    "                img = cv2.cvtColor(img, cv2.COLOR_BGR2RGB)\n",
    "                img = cv2.resize(img, (img_size, img_size))\n",
    "                X.append(img)\n",
    "                y.append(labels.index(label))\n",
    "            except Exception as e:\n",
    "                print(f\"Warning: Error loading '{img_name}': {e}\")\n",
    "    \n",
    "    return np.array(X), np.array(y)"
   ]
  },
  {
   "cell_type": "code",
   "execution_count": 5,
   "id": "806aca04",
   "metadata": {
    "execution": {
     "iopub.execute_input": "2025-02-16T17:22:04.439629Z",
     "iopub.status.busy": "2025-02-16T17:22:04.439427Z",
     "iopub.status.idle": "2025-02-16T17:22:28.822290Z",
     "shell.execute_reply": "2025-02-16T17:22:28.821570Z"
    },
    "papermill": {
     "duration": 24.388257,
     "end_time": "2025-02-16T17:22:28.823829",
     "exception": false,
     "start_time": "2025-02-16T17:22:04.435572",
     "status": "completed"
    },
    "tags": []
   },
   "outputs": [],
   "source": [
    "X_train, y_train = load_data(data[\"train\"], labels)\n",
    "X_test, y_test = load_data(data[\"test\"], labels)"
   ]
  },
  {
   "cell_type": "code",
   "execution_count": 6,
   "id": "dccf7b64",
   "metadata": {
    "execution": {
     "iopub.execute_input": "2025-02-16T17:22:28.833450Z",
     "iopub.status.busy": "2025-02-16T17:22:28.833200Z",
     "iopub.status.idle": "2025-02-16T17:22:30.279790Z",
     "shell.execute_reply": "2025-02-16T17:22:30.279071Z"
    },
    "papermill": {
     "duration": 1.452976,
     "end_time": "2025-02-16T17:22:30.281573",
     "exception": false,
     "start_time": "2025-02-16T17:22:28.828597",
     "status": "completed"
    },
    "tags": []
   },
   "outputs": [],
   "source": [
    "# Ensure 'labels' is defined\n",
    "labels = [\"glioma\", \"meningioma\", \"pituitary\", \"notumor\"]\n",
    "num_classes = len(labels)\n",
    "\n",
    "# Normalize the data\n",
    "X_train, X_test = X_train.astype(\"float32\") / 255.0, X_test.astype(\"float32\") / 255.0\n",
    "\n",
    "# Convert labels to one-hot encoding\n",
    "y_train, y_test = to_categorical(y_train, num_classes), to_categorical(y_test, num_classes)\n",
    "\n",
    "# Split the dataset into training and validation sets\n",
    "X_train, X_val, y_train, y_val = train_test_split(X_train, y_train, test_size=0.2, random_state=42)\n"
   ]
  },
  {
   "cell_type": "code",
   "execution_count": 7,
   "id": "ea5f22d0",
   "metadata": {
    "execution": {
     "iopub.execute_input": "2025-02-16T17:22:30.289789Z",
     "iopub.status.busy": "2025-02-16T17:22:30.289551Z",
     "iopub.status.idle": "2025-02-16T17:22:30.751945Z",
     "shell.execute_reply": "2025-02-16T17:22:30.751277Z"
    },
    "papermill": {
     "duration": 0.468037,
     "end_time": "2025-02-16T17:22:30.753534",
     "exception": false,
     "start_time": "2025-02-16T17:22:30.285497",
     "status": "completed"
    },
    "tags": []
   },
   "outputs": [],
   "source": [
    "# Data Augmentation\n",
    "datagen = ImageDataGenerator(\n",
    "    rotation_range=20,  \n",
    "    width_shift_range=0.2,  \n",
    "    height_shift_range=0.2,  \n",
    "    shear_range=0.2,  \n",
    "    zoom_range=0.2,  \n",
    "    horizontal_flip=True,  \n",
    "    fill_mode=\"nearest\"\n",
    ")\n",
    "datagen.fit(X_train)\n"
   ]
  },
  {
   "cell_type": "markdown",
   "id": "1f3d46af",
   "metadata": {
    "papermill": {
     "duration": 0.003331,
     "end_time": "2025-02-16T17:22:30.760775",
     "exception": false,
     "start_time": "2025-02-16T17:22:30.757444",
     "status": "completed"
    },
    "tags": []
   },
   "source": [
    "## Model Architecture\n",
    "\n",
    "The model is a Convolutional Neural Network (CNN) designed to classify MRI images into one of four categories. It consists of multiple convolutional layers followed by max-pooling layers. The final layers are dense layers for classification. We also use dropout for regularization.\n",
    "\n",
    "The model is compiled using Adam optimizer for better precision in the `glioma_tumor` class."
   ]
  },
  {
   "cell_type": "code",
   "execution_count": 8,
   "id": "41ed6dea",
   "metadata": {
    "execution": {
     "iopub.execute_input": "2025-02-16T17:22:30.768547Z",
     "iopub.status.busy": "2025-02-16T17:22:30.768304Z",
     "iopub.status.idle": "2025-02-16T17:22:32.825995Z",
     "shell.execute_reply": "2025-02-16T17:22:32.825072Z"
    },
    "papermill": {
     "duration": 2.063453,
     "end_time": "2025-02-16T17:22:32.827688",
     "exception": false,
     "start_time": "2025-02-16T17:22:30.764235",
     "status": "completed"
    },
    "tags": []
   },
   "outputs": [],
   "source": [
    "model = Sequential([\n",
    "    Input(shape=(224, 224, 3)), \n",
    "    \n",
    "    Conv2D(32, (3, 3), activation='relu'),\n",
    "    MaxPooling2D(2, 2),\n",
    "    \n",
    "    Conv2D(64, (3, 3), activation='relu'),\n",
    "    MaxPooling2D(2, 2),\n",
    "    \n",
    "    Conv2D(128, (3, 3), activation='relu'),\n",
    "    MaxPooling2D(2, 2),\n",
    "    \n",
    "    Flatten(),\n",
    "    Dense(128, activation='relu'),\n",
    "    Dropout(0.5),\n",
    "    Dense(num_classes, activation='softmax')\n",
    "])"
   ]
  },
  {
   "cell_type": "code",
   "execution_count": 9,
   "id": "db0d3c96",
   "metadata": {
    "execution": {
     "iopub.execute_input": "2025-02-16T17:22:32.835862Z",
     "iopub.status.busy": "2025-02-16T17:22:32.835623Z",
     "iopub.status.idle": "2025-02-16T17:22:32.845549Z",
     "shell.execute_reply": "2025-02-16T17:22:32.844969Z"
    },
    "papermill": {
     "duration": 0.015202,
     "end_time": "2025-02-16T17:22:32.846758",
     "exception": false,
     "start_time": "2025-02-16T17:22:32.831556",
     "status": "completed"
    },
    "tags": []
   },
   "outputs": [],
   "source": [
    "# I prefer the Adam optimizer because it provides higher precision for the glioma_tumor class. \n",
    "# With this optimizer, the overall accuracy of the model is also higher.\n",
    "model.compile(optimizer=Adam(learning_rate=0.001), loss='categorical_crossentropy', metrics=['accuracy'])\n",
    "\n",
    "# However, if you are aiming for a more balanced model, the RMSprop optimizer also yields good results, \n",
    "# but the overall accuracy and precision might be slightly lower.\n",
    "# model.compile(optimizer=RMSprop(learning_rate=0.0005), loss='categorical_crossentropy', metrics=['accuracy'])\n"
   ]
  },
  {
   "cell_type": "code",
   "execution_count": 10,
   "id": "bb6cc50c",
   "metadata": {
    "execution": {
     "iopub.execute_input": "2025-02-16T17:22:32.854315Z",
     "iopub.status.busy": "2025-02-16T17:22:32.854048Z",
     "iopub.status.idle": "2025-02-16T17:22:36.991463Z",
     "shell.execute_reply": "2025-02-16T17:22:36.990491Z"
    },
    "papermill": {
     "duration": 4.142868,
     "end_time": "2025-02-16T17:22:36.993086",
     "exception": false,
     "start_time": "2025-02-16T17:22:32.850218",
     "status": "completed"
    },
    "tags": []
   },
   "outputs": [],
   "source": [
    "train_dataset = tf.data.Dataset.from_tensor_slices((X_train, y_train)).batch(32)\n",
    "val_dataset = tf.data.Dataset.from_tensor_slices((X_val, y_val)).batch(32)"
   ]
  },
  {
   "cell_type": "markdown",
   "id": "34b7cf66",
   "metadata": {
    "papermill": {
     "duration": 0.003425,
     "end_time": "2025-02-16T17:22:37.000508",
     "exception": false,
     "start_time": "2025-02-16T17:22:36.997083",
     "status": "completed"
    },
    "tags": []
   },
   "source": [
    "## Model Training\n",
    "\n",
    "The model is trained using the training dataset, with data augmentation applied for better generalization. The validation dataset is used to monitor the model's performance during training. We use categorical cross-entropy loss and accuracy as the metrics."
   ]
  },
  {
   "cell_type": "code",
   "execution_count": 11,
   "id": "fc58c957",
   "metadata": {
    "execution": {
     "iopub.execute_input": "2025-02-16T17:22:37.008267Z",
     "iopub.status.busy": "2025-02-16T17:22:37.007995Z",
     "iopub.status.idle": "2025-02-16T17:23:37.129247Z",
     "shell.execute_reply": "2025-02-16T17:23:37.128346Z"
    },
    "papermill": {
     "duration": 60.158354,
     "end_time": "2025-02-16T17:23:37.162344",
     "exception": false,
     "start_time": "2025-02-16T17:22:37.003990",
     "status": "completed"
    },
    "tags": []
   },
   "outputs": [
    {
     "name": "stdout",
     "output_type": "stream",
     "text": [
      "Epoch 1/20\n",
      "\u001b[1m72/72\u001b[0m \u001b[32m━━━━━━━━━━━━━━━━━━━━\u001b[0m\u001b[37m\u001b[0m \u001b[1m16s\u001b[0m 125ms/step - accuracy: 0.4650 - loss: 1.2686 - val_accuracy: 0.6986 - val_loss: 0.7097\n",
      "Epoch 2/20\n",
      "\u001b[1m72/72\u001b[0m \u001b[32m━━━━━━━━━━━━━━━━━━━━\u001b[0m\u001b[37m\u001b[0m \u001b[1m2s\u001b[0m 33ms/step - accuracy: 0.7003 - loss: 0.7121 - val_accuracy: 0.7456 - val_loss: 0.5679\n",
      "Epoch 3/20\n",
      "\u001b[1m72/72\u001b[0m \u001b[32m━━━━━━━━━━━━━━━━━━━━\u001b[0m\u001b[37m\u001b[0m \u001b[1m2s\u001b[0m 32ms/step - accuracy: 0.7938 - loss: 0.5067 - val_accuracy: 0.8275 - val_loss: 0.4201\n",
      "Epoch 4/20\n",
      "\u001b[1m72/72\u001b[0m \u001b[32m━━━━━━━━━━━━━━━━━━━━\u001b[0m\u001b[37m\u001b[0m \u001b[1m2s\u001b[0m 32ms/step - accuracy: 0.8683 - loss: 0.3495 - val_accuracy: 0.8554 - val_loss: 0.3195\n",
      "Epoch 5/20\n",
      "\u001b[1m72/72\u001b[0m \u001b[32m━━━━━━━━━━━━━━━━━━━━\u001b[0m\u001b[37m\u001b[0m \u001b[1m2s\u001b[0m 32ms/step - accuracy: 0.8976 - loss: 0.2668 - val_accuracy: 0.8815 - val_loss: 0.2817\n",
      "Epoch 6/20\n",
      "\u001b[1m72/72\u001b[0m \u001b[32m━━━━━━━━━━━━━━━━━━━━\u001b[0m\u001b[37m\u001b[0m \u001b[1m2s\u001b[0m 32ms/step - accuracy: 0.9128 - loss: 0.2338 - val_accuracy: 0.8815 - val_loss: 0.2822\n",
      "Epoch 7/20\n",
      "\u001b[1m72/72\u001b[0m \u001b[32m━━━━━━━━━━━━━━━━━━━━\u001b[0m\u001b[37m\u001b[0m \u001b[1m2s\u001b[0m 32ms/step - accuracy: 0.9229 - loss: 0.2245 - val_accuracy: 0.8815 - val_loss: 0.3212\n",
      "Epoch 8/20\n",
      "\u001b[1m72/72\u001b[0m \u001b[32m━━━━━━━━━━━━━━━━━━━━\u001b[0m\u001b[37m\u001b[0m \u001b[1m2s\u001b[0m 32ms/step - accuracy: 0.9496 - loss: 0.1594 - val_accuracy: 0.8920 - val_loss: 0.2949\n",
      "Epoch 9/20\n",
      "\u001b[1m72/72\u001b[0m \u001b[32m━━━━━━━━━━━━━━━━━━━━\u001b[0m\u001b[37m\u001b[0m \u001b[1m2s\u001b[0m 33ms/step - accuracy: 0.9614 - loss: 0.1423 - val_accuracy: 0.8955 - val_loss: 0.3526\n",
      "Epoch 10/20\n",
      "\u001b[1m72/72\u001b[0m \u001b[32m━━━━━━━━━━━━━━━━━━━━\u001b[0m\u001b[37m\u001b[0m \u001b[1m2s\u001b[0m 32ms/step - accuracy: 0.9582 - loss: 0.1211 - val_accuracy: 0.9042 - val_loss: 0.3068\n",
      "Epoch 11/20\n",
      "\u001b[1m72/72\u001b[0m \u001b[32m━━━━━━━━━━━━━━━━━━━━\u001b[0m\u001b[37m\u001b[0m \u001b[1m2s\u001b[0m 32ms/step - accuracy: 0.9678 - loss: 0.0895 - val_accuracy: 0.9007 - val_loss: 0.3334\n",
      "Epoch 12/20\n",
      "\u001b[1m72/72\u001b[0m \u001b[32m━━━━━━━━━━━━━━━━━━━━\u001b[0m\u001b[37m\u001b[0m \u001b[1m2s\u001b[0m 32ms/step - accuracy: 0.9778 - loss: 0.0841 - val_accuracy: 0.9042 - val_loss: 0.3741\n",
      "Epoch 13/20\n",
      "\u001b[1m72/72\u001b[0m \u001b[32m━━━━━━━━━━━━━━━━━━━━\u001b[0m\u001b[37m\u001b[0m \u001b[1m2s\u001b[0m 32ms/step - accuracy: 0.9739 - loss: 0.0705 - val_accuracy: 0.9042 - val_loss: 0.2948\n",
      "Epoch 14/20\n",
      "\u001b[1m72/72\u001b[0m \u001b[32m━━━━━━━━━━━━━━━━━━━━\u001b[0m\u001b[37m\u001b[0m \u001b[1m2s\u001b[0m 32ms/step - accuracy: 0.9769 - loss: 0.0719 - val_accuracy: 0.9007 - val_loss: 0.3127\n",
      "Epoch 15/20\n",
      "\u001b[1m72/72\u001b[0m \u001b[32m━━━━━━━━━━━━━━━━━━━━\u001b[0m\u001b[37m\u001b[0m \u001b[1m2s\u001b[0m 32ms/step - accuracy: 0.9787 - loss: 0.0625 - val_accuracy: 0.9146 - val_loss: 0.3685\n",
      "Epoch 16/20\n",
      "\u001b[1m72/72\u001b[0m \u001b[32m━━━━━━━━━━━━━━━━━━━━\u001b[0m\u001b[37m\u001b[0m \u001b[1m2s\u001b[0m 32ms/step - accuracy: 0.9808 - loss: 0.0551 - val_accuracy: 0.8972 - val_loss: 0.3154\n",
      "Epoch 17/20\n",
      "\u001b[1m72/72\u001b[0m \u001b[32m━━━━━━━━━━━━━━━━━━━━\u001b[0m\u001b[37m\u001b[0m \u001b[1m2s\u001b[0m 32ms/step - accuracy: 0.9771 - loss: 0.0591 - val_accuracy: 0.9094 - val_loss: 0.3800\n",
      "Epoch 18/20\n",
      "\u001b[1m72/72\u001b[0m \u001b[32m━━━━━━━━━━━━━━━━━━━━\u001b[0m\u001b[37m\u001b[0m \u001b[1m2s\u001b[0m 32ms/step - accuracy: 0.9799 - loss: 0.0542 - val_accuracy: 0.9007 - val_loss: 0.3842\n",
      "Epoch 19/20\n",
      "\u001b[1m72/72\u001b[0m \u001b[32m━━━━━━━━━━━━━━━━━━━━\u001b[0m\u001b[37m\u001b[0m \u001b[1m2s\u001b[0m 32ms/step - accuracy: 0.9842 - loss: 0.0656 - val_accuracy: 0.9268 - val_loss: 0.3233\n",
      "Epoch 20/20\n",
      "\u001b[1m72/72\u001b[0m \u001b[32m━━━━━━━━━━━━━━━━━━━━\u001b[0m\u001b[37m\u001b[0m \u001b[1m2s\u001b[0m 32ms/step - accuracy: 0.9829 - loss: 0.0503 - val_accuracy: 0.8937 - val_loss: 0.4321\n"
     ]
    }
   ],
   "source": [
    "history = model.fit(train_dataset, validation_data=val_dataset, epochs=20, verbose=1)"
   ]
  },
  {
   "cell_type": "markdown",
   "id": "d3fc5537",
   "metadata": {
    "papermill": {
     "duration": 0.036353,
     "end_time": "2025-02-16T17:23:37.235665",
     "exception": false,
     "start_time": "2025-02-16T17:23:37.199312",
     "status": "completed"
    },
    "tags": []
   },
   "source": [
    "## Model Evaluation and Results\n",
    "\n",
    "After training the model, we evaluate its performance on the test set. The results include:\n",
    "- Test loss and accuracy\n",
    "- Confusion matrix\n",
    "- Classification report"
   ]
  },
  {
   "cell_type": "code",
   "execution_count": 12,
   "id": "fd0bedaa",
   "metadata": {
    "execution": {
     "iopub.execute_input": "2025-02-16T17:23:37.308942Z",
     "iopub.status.busy": "2025-02-16T17:23:37.308695Z",
     "iopub.status.idle": "2025-02-16T17:23:39.697496Z",
     "shell.execute_reply": "2025-02-16T17:23:39.696742Z"
    },
    "papermill": {
     "duration": 2.426731,
     "end_time": "2025-02-16T17:23:39.698754",
     "exception": false,
     "start_time": "2025-02-16T17:23:37.272023",
     "status": "completed"
    },
    "tags": []
   },
   "outputs": [
    {
     "name": "stdout",
     "output_type": "stream",
     "text": [
      "\u001b[1m13/13\u001b[0m \u001b[32m━━━━━━━━━━━━━━━━━━━━\u001b[0m\u001b[37m\u001b[0m \u001b[1m2s\u001b[0m 91ms/step - accuracy: 0.8866 - loss: 1.4323\n",
      "Test Loss: 4.4797\n",
      "Test Accuracy: 0.7284\n"
     ]
    }
   ],
   "source": [
    "test_loss, test_accuracy = model.evaluate(X_test, y_test, verbose=1)\n",
    "print(f\"Test Loss: {test_loss:.4f}\")\n",
    "print(f\"Test Accuracy: {test_accuracy:.4f}\")"
   ]
  },
  {
   "cell_type": "code",
   "execution_count": 13,
   "id": "ad3d8721",
   "metadata": {
    "execution": {
     "iopub.execute_input": "2025-02-16T17:23:39.775968Z",
     "iopub.status.busy": "2025-02-16T17:23:39.775704Z",
     "iopub.status.idle": "2025-02-16T17:23:41.157937Z",
     "shell.execute_reply": "2025-02-16T17:23:41.156956Z"
    },
    "papermill": {
     "duration": 1.422947,
     "end_time": "2025-02-16T17:23:41.159856",
     "exception": false,
     "start_time": "2025-02-16T17:23:39.736909",
     "status": "completed"
    },
    "tags": []
   },
   "outputs": [
    {
     "name": "stdout",
     "output_type": "stream",
     "text": [
      "\u001b[1m13/13\u001b[0m \u001b[32m━━━━━━━━━━━━━━━━━━━━\u001b[0m\u001b[37m\u001b[0m \u001b[1m1s\u001b[0m 32ms/step\n"
     ]
    }
   ],
   "source": [
    "# Confusion Matrix and Classification Report\n",
    "y_pred = model.predict(X_test)\n",
    "y_pred_classes = np.argmax(y_pred, axis=1)\n",
    "y_true = np.argmax(y_test, axis=1)"
   ]
  },
  {
   "cell_type": "code",
   "execution_count": 14,
   "id": "db74cae6",
   "metadata": {
    "execution": {
     "iopub.execute_input": "2025-02-16T17:23:41.244076Z",
     "iopub.status.busy": "2025-02-16T17:23:41.243699Z",
     "iopub.status.idle": "2025-02-16T17:23:41.568306Z",
     "shell.execute_reply": "2025-02-16T17:23:41.567415Z"
    },
    "papermill": {
     "duration": 0.365312,
     "end_time": "2025-02-16T17:23:41.569974",
     "exception": false,
     "start_time": "2025-02-16T17:23:41.204662",
     "status": "completed"
    },
    "tags": []
   },
   "outputs": [
    {
     "data": {
      "image/png": "[encoded data removed]",
      "text/plain": [
       "<Figure size 800x600 with 2 Axes>"
      ]
     },
     "metadata": {},
     "output_type": "display_data"
    }
   ],
   "source": [
    "conf_matrix = confusion_matrix(y_true, y_pred_classes)\n",
    "plt.figure(figsize=(8, 6))\n",
    "sns.heatmap(conf_matrix, annot=True, fmt=\"d\", cmap=\"Blues\", xticklabels=labels, yticklabels=labels)\n",
    "plt.xlabel(\"Predicted Label\")\n",
    "plt.ylabel(\"True Label\")\n",
    "plt.title(\"Confusion Matrix\")\n",
    "plt.show()"
   ]
  },
  {
   "cell_type": "code",
   "execution_count": 15,
   "id": "3053cb60",
   "metadata": {
    "execution": {
     "iopub.execute_input": "2025-02-16T17:23:41.655181Z",
     "iopub.status.busy": "2025-02-16T17:23:41.654780Z",
     "iopub.status.idle": "2025-02-16T17:23:41.668480Z",
     "shell.execute_reply": "2025-02-16T17:23:41.667537Z"
    },
    "papermill": {
     "duration": 0.054633,
     "end_time": "2025-02-16T17:23:41.669827",
     "exception": false,
     "start_time": "2025-02-16T17:23:41.615194",
     "status": "completed"
    },
    "tags": []
   },
   "outputs": [
    {
     "name": "stdout",
     "output_type": "stream",
     "text": [
      "Classification Report:\n",
      "              precision    recall  f1-score   support\n",
      "\n",
      "      glioma       0.65      0.97      0.78       105\n",
      "  meningioma       0.85      0.92      0.88        74\n",
      "   pituitary       0.73      0.86      0.79       115\n",
      "     notumor       0.82      0.18      0.30       100\n",
      "\n",
      "    accuracy                           0.73       394\n",
      "   macro avg       0.76      0.73      0.69       394\n",
      "weighted avg       0.75      0.73      0.68       394\n",
      "\n"
     ]
    }
   ],
   "source": [
    "print(\"Classification Report:\")\n",
    "print(classification_report(y_true, y_pred_classes, target_names=labels))"
   ]
  }
 ],
 "metadata": {
  "kaggle": {
   "accelerator": "gpu",
   "dataSources": [
    {
     "datasetId": 672377,
     "sourceId": 1183165,
     "sourceType": "datasetVersion"
    }
   ],
   "dockerImageVersionId": 30887,
   "isGpuEnabled": true,
   "isInternetEnabled": true,
   "language": "python",
   "sourceType": "notebook"
  },
  "kernelspec": {
   "display_name": "Python 3",
   "language": "python",
   "name": "python3"
  },
  "language_info": {
   "codemirror_mode": {
    "name": "ipython",
    "version": 3
   },
   "file_extension": ".py",
   "mimetype": "text/x-python",
   "name": "python",
   "nbconvert_exporter": "python",
   "pygments_lexer": "ipython3",
   "version": "3.10.12"
  },
  "papermill": {
   "default_parameters": {},
   "duration": 121.879292,
   "end_time": "2025-02-16T17:23:44.243611",
   "environment_variables": {},
   "exception": null,
   "input_path": "__notebook__.ipynb",
   "output_path": "__notebook__.ipynb",
   "parameters": {},
   "start_time": "2025-02-16T17:21:42.364319",
   "version": "2.6.0"
  }
 },
 "nbformat": 4,
 "nbformat_minor": 5
}
